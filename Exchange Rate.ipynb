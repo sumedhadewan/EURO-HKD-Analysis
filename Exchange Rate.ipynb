{
 "cells": [
  {
   "cell_type": "markdown",
   "metadata": {},
   "source": [
    "# Euro Exchange rate \n",
    "## 1999 - 2022\n",
    "\n",
    "<a href='https://www.kaggle.com/datasets/lsind18/euro-exchange-daily-rates-19992020?resource=download'>Kaggle</a> datasets records time series of **foreign exchange rates per 1 Euro** between 1999 and 2022 [Nov].It wasn't until 1999 The Euro really began its journey in most of the countries of European Union.\n",
    "\n",
    "This project will be on the exchange rate between the Euro and the Hong Kong dollar\n",
    "\n",
    "All data provided by European Central Bank Statistical Data WareHouse, EXR - Exchange Rates. "
   ]
  },
  {
   "cell_type": "code",
   "execution_count": 1,
   "metadata": {},
   "outputs": [],
   "source": [
    "import pandas as pd\n",
    "import numpy as np\n",
    "import matplotlib.pyplot as plt\n",
    "import matplotlib.style as style\n",
    "\n",
    "exchange_rates = pd.read_csv('dataset/euro-daily-hist_1999_2022.csv')"
   ]
  },
  {
   "cell_type": "code",
   "execution_count": 2,
   "metadata": {},
   "outputs": [
    {
     "data": {
      "text/html": [
       "<div>\n",
       "<style scoped>\n",
       "    .dataframe tbody tr th:only-of-type {\n",
       "        vertical-align: middle;\n",
       "    }\n",
       "\n",
       "    .dataframe tbody tr th {\n",
       "        vertical-align: top;\n",
       "    }\n",
       "\n",
       "    .dataframe thead th {\n",
       "        text-align: right;\n",
       "    }\n",
       "</style>\n",
       "<table border=\"1\" class=\"dataframe\">\n",
       "  <thead>\n",
       "    <tr style=\"text-align: right;\">\n",
       "      <th></th>\n",
       "      <th>Period\\Unit:</th>\n",
       "      <th>[Australian dollar ]</th>\n",
       "      <th>[Bulgarian lev ]</th>\n",
       "      <th>[Brazilian real ]</th>\n",
       "      <th>[Canadian dollar ]</th>\n",
       "      <th>[Swiss franc ]</th>\n",
       "      <th>[Chinese yuan renminbi ]</th>\n",
       "      <th>[Cypriot pound ]</th>\n",
       "      <th>[Czech koruna ]</th>\n",
       "      <th>[Danish krone ]</th>\n",
       "      <th>...</th>\n",
       "      <th>[Romanian leu ]</th>\n",
       "      <th>[Russian rouble ]</th>\n",
       "      <th>[Swedish krona ]</th>\n",
       "      <th>[Singapore dollar ]</th>\n",
       "      <th>[Slovenian tolar ]</th>\n",
       "      <th>[Slovak koruna ]</th>\n",
       "      <th>[Thai baht ]</th>\n",
       "      <th>[Turkish lira ]</th>\n",
       "      <th>[US dollar ]</th>\n",
       "      <th>[South African rand ]</th>\n",
       "    </tr>\n",
       "  </thead>\n",
       "  <tbody>\n",
       "    <tr>\n",
       "      <th>0</th>\n",
       "      <td>2022-11-15</td>\n",
       "      <td>1.5415</td>\n",
       "      <td>1.9558</td>\n",
       "      <td>5.5480</td>\n",
       "      <td>1.3816</td>\n",
       "      <td>0.9790</td>\n",
       "      <td>7.3299</td>\n",
       "      <td>NaN</td>\n",
       "      <td>24.326</td>\n",
       "      <td>7.4388</td>\n",
       "      <td>...</td>\n",
       "      <td>4.9116</td>\n",
       "      <td>NaN</td>\n",
       "      <td>10.8081</td>\n",
       "      <td>1.4238</td>\n",
       "      <td>NaN</td>\n",
       "      <td>NaN</td>\n",
       "      <td>36.9390</td>\n",
       "      <td>19.3608</td>\n",
       "      <td>1.0404</td>\n",
       "      <td>17.8822</td>\n",
       "    </tr>\n",
       "    <tr>\n",
       "      <th>1</th>\n",
       "      <td>2022-11-14</td>\n",
       "      <td>1.5427</td>\n",
       "      <td>1.9558</td>\n",
       "      <td>5.4605</td>\n",
       "      <td>1.3706</td>\n",
       "      <td>0.9751</td>\n",
       "      <td>7.2906</td>\n",
       "      <td>NaN</td>\n",
       "      <td>24.289</td>\n",
       "      <td>7.4382</td>\n",
       "      <td>...</td>\n",
       "      <td>4.9043</td>\n",
       "      <td>NaN</td>\n",
       "      <td>10.7713</td>\n",
       "      <td>1.4177</td>\n",
       "      <td>NaN</td>\n",
       "      <td>NaN</td>\n",
       "      <td>36.9780</td>\n",
       "      <td>19.1923</td>\n",
       "      <td>1.0319</td>\n",
       "      <td>17.8393</td>\n",
       "    </tr>\n",
       "    <tr>\n",
       "      <th>2</th>\n",
       "      <td>2022-11-11</td>\n",
       "      <td>1.5459</td>\n",
       "      <td>1.9558</td>\n",
       "      <td>5.5147</td>\n",
       "      <td>1.3698</td>\n",
       "      <td>0.9844</td>\n",
       "      <td>7.3267</td>\n",
       "      <td>NaN</td>\n",
       "      <td>24.278</td>\n",
       "      <td>7.4384</td>\n",
       "      <td>...</td>\n",
       "      <td>4.8940</td>\n",
       "      <td>NaN</td>\n",
       "      <td>10.7241</td>\n",
       "      <td>1.4199</td>\n",
       "      <td>NaN</td>\n",
       "      <td>NaN</td>\n",
       "      <td>37.0880</td>\n",
       "      <td>19.0987</td>\n",
       "      <td>1.0308</td>\n",
       "      <td>17.7944</td>\n",
       "    </tr>\n",
       "    <tr>\n",
       "      <th>3</th>\n",
       "      <td>2022-11-10</td>\n",
       "      <td>1.5525</td>\n",
       "      <td>1.9558</td>\n",
       "      <td>5.2860</td>\n",
       "      <td>1.3467</td>\n",
       "      <td>0.9834</td>\n",
       "      <td>7.2184</td>\n",
       "      <td>NaN</td>\n",
       "      <td>24.361</td>\n",
       "      <td>7.4381</td>\n",
       "      <td>...</td>\n",
       "      <td>4.8913</td>\n",
       "      <td>NaN</td>\n",
       "      <td>10.8743</td>\n",
       "      <td>1.3963</td>\n",
       "      <td>NaN</td>\n",
       "      <td>NaN</td>\n",
       "      <td>36.7000</td>\n",
       "      <td>18.5100</td>\n",
       "      <td>0.9954</td>\n",
       "      <td>17.6882</td>\n",
       "    </tr>\n",
       "    <tr>\n",
       "      <th>4</th>\n",
       "      <td>2022-11-09</td>\n",
       "      <td>1.5538</td>\n",
       "      <td>1.9558</td>\n",
       "      <td>5.1947</td>\n",
       "      <td>1.3501</td>\n",
       "      <td>0.9880</td>\n",
       "      <td>7.2813</td>\n",
       "      <td>NaN</td>\n",
       "      <td>24.337</td>\n",
       "      <td>7.4382</td>\n",
       "      <td>...</td>\n",
       "      <td>4.9045</td>\n",
       "      <td>NaN</td>\n",
       "      <td>10.8450</td>\n",
       "      <td>1.4061</td>\n",
       "      <td>NaN</td>\n",
       "      <td>NaN</td>\n",
       "      <td>36.9990</td>\n",
       "      <td>18.6728</td>\n",
       "      <td>1.0039</td>\n",
       "      <td>17.8770</td>\n",
       "    </tr>\n",
       "  </tbody>\n",
       "</table>\n",
       "<p>5 rows × 41 columns</p>\n",
       "</div>"
      ],
      "text/plain": [
       "  Period\\Unit: [Australian dollar ] [Bulgarian lev ] [Brazilian real ]  \\\n",
       "0   2022-11-15               1.5415           1.9558            5.5480   \n",
       "1   2022-11-14               1.5427           1.9558            5.4605   \n",
       "2   2022-11-11               1.5459           1.9558            5.5147   \n",
       "3   2022-11-10               1.5525           1.9558            5.2860   \n",
       "4   2022-11-09               1.5538           1.9558            5.1947   \n",
       "\n",
       "  [Canadian dollar ] [Swiss franc ] [Chinese yuan renminbi ] [Cypriot pound ]  \\\n",
       "0             1.3816         0.9790                   7.3299              NaN   \n",
       "1             1.3706         0.9751                   7.2906              NaN   \n",
       "2             1.3698         0.9844                   7.3267              NaN   \n",
       "3             1.3467         0.9834                   7.2184              NaN   \n",
       "4             1.3501         0.9880                   7.2813              NaN   \n",
       "\n",
       "  [Czech koruna ] [Danish krone ]  ... [Romanian leu ] [Russian rouble ]  \\\n",
       "0          24.326          7.4388  ...          4.9116               NaN   \n",
       "1          24.289          7.4382  ...          4.9043               NaN   \n",
       "2          24.278          7.4384  ...          4.8940               NaN   \n",
       "3          24.361          7.4381  ...          4.8913               NaN   \n",
       "4          24.337          7.4382  ...          4.9045               NaN   \n",
       "\n",
       "  [Swedish krona ] [Singapore dollar ] [Slovenian tolar ] [Slovak koruna ]  \\\n",
       "0          10.8081              1.4238                NaN              NaN   \n",
       "1          10.7713              1.4177                NaN              NaN   \n",
       "2          10.7241              1.4199                NaN              NaN   \n",
       "3          10.8743              1.3963                NaN              NaN   \n",
       "4          10.8450              1.4061                NaN              NaN   \n",
       "\n",
       "  [Thai baht ] [Turkish lira ] [US dollar ]  [South African rand ]  \n",
       "0      36.9390         19.3608       1.0404                17.8822  \n",
       "1      36.9780         19.1923       1.0319                17.8393  \n",
       "2      37.0880         19.0987       1.0308                17.7944  \n",
       "3      36.7000         18.5100       0.9954                17.6882  \n",
       "4      36.9990         18.6728       1.0039                17.8770  \n",
       "\n",
       "[5 rows x 41 columns]"
      ]
     },
     "execution_count": 2,
     "metadata": {},
     "output_type": "execute_result"
    }
   ],
   "source": [
    "exchange_rates.head()"
   ]
  },
  {
   "cell_type": "code",
   "execution_count": 3,
   "metadata": {},
   "outputs": [
    {
     "data": {
      "text/html": [
       "<div>\n",
       "<style scoped>\n",
       "    .dataframe tbody tr th:only-of-type {\n",
       "        vertical-align: middle;\n",
       "    }\n",
       "\n",
       "    .dataframe tbody tr th {\n",
       "        vertical-align: top;\n",
       "    }\n",
       "\n",
       "    .dataframe thead th {\n",
       "        text-align: right;\n",
       "    }\n",
       "</style>\n",
       "<table border=\"1\" class=\"dataframe\">\n",
       "  <thead>\n",
       "    <tr style=\"text-align: right;\">\n",
       "      <th></th>\n",
       "      <th>Period\\Unit:</th>\n",
       "      <th>[Australian dollar ]</th>\n",
       "      <th>[Bulgarian lev ]</th>\n",
       "      <th>[Brazilian real ]</th>\n",
       "      <th>[Canadian dollar ]</th>\n",
       "      <th>[Swiss franc ]</th>\n",
       "      <th>[Chinese yuan renminbi ]</th>\n",
       "      <th>[Cypriot pound ]</th>\n",
       "      <th>[Czech koruna ]</th>\n",
       "      <th>[Danish krone ]</th>\n",
       "      <th>...</th>\n",
       "      <th>[Romanian leu ]</th>\n",
       "      <th>[Russian rouble ]</th>\n",
       "      <th>[Swedish krona ]</th>\n",
       "      <th>[Singapore dollar ]</th>\n",
       "      <th>[Slovenian tolar ]</th>\n",
       "      <th>[Slovak koruna ]</th>\n",
       "      <th>[Thai baht ]</th>\n",
       "      <th>[Turkish lira ]</th>\n",
       "      <th>[US dollar ]</th>\n",
       "      <th>[South African rand ]</th>\n",
       "    </tr>\n",
       "  </thead>\n",
       "  <tbody>\n",
       "    <tr>\n",
       "      <th>6172</th>\n",
       "      <td>1999-01-08</td>\n",
       "      <td>1.8406</td>\n",
       "      <td>NaN</td>\n",
       "      <td>NaN</td>\n",
       "      <td>1.7643</td>\n",
       "      <td>1.6138</td>\n",
       "      <td>NaN</td>\n",
       "      <td>0.58187</td>\n",
       "      <td>34.938</td>\n",
       "      <td>7.4433</td>\n",
       "      <td>...</td>\n",
       "      <td>1.3143</td>\n",
       "      <td>27.2075</td>\n",
       "      <td>9.1650</td>\n",
       "      <td>1.9537</td>\n",
       "      <td>188.8400</td>\n",
       "      <td>42.560</td>\n",
       "      <td>42.5590</td>\n",
       "      <td>0.3718</td>\n",
       "      <td>1.1659</td>\n",
       "      <td>6.7855</td>\n",
       "    </tr>\n",
       "    <tr>\n",
       "      <th>6173</th>\n",
       "      <td>1999-01-07</td>\n",
       "      <td>1.8474</td>\n",
       "      <td>NaN</td>\n",
       "      <td>NaN</td>\n",
       "      <td>1.7602</td>\n",
       "      <td>1.6165</td>\n",
       "      <td>NaN</td>\n",
       "      <td>0.58187</td>\n",
       "      <td>34.886</td>\n",
       "      <td>7.4431</td>\n",
       "      <td>...</td>\n",
       "      <td>1.3092</td>\n",
       "      <td>26.9876</td>\n",
       "      <td>9.1800</td>\n",
       "      <td>1.9436</td>\n",
       "      <td>188.8000</td>\n",
       "      <td>42.765</td>\n",
       "      <td>42.1678</td>\n",
       "      <td>0.3701</td>\n",
       "      <td>1.1632</td>\n",
       "      <td>6.8283</td>\n",
       "    </tr>\n",
       "    <tr>\n",
       "      <th>6174</th>\n",
       "      <td>1999-01-06</td>\n",
       "      <td>1.8820</td>\n",
       "      <td>NaN</td>\n",
       "      <td>NaN</td>\n",
       "      <td>1.7711</td>\n",
       "      <td>1.6116</td>\n",
       "      <td>NaN</td>\n",
       "      <td>0.58200</td>\n",
       "      <td>34.850</td>\n",
       "      <td>7.4452</td>\n",
       "      <td>...</td>\n",
       "      <td>1.3168</td>\n",
       "      <td>27.4315</td>\n",
       "      <td>9.3050</td>\n",
       "      <td>1.9699</td>\n",
       "      <td>188.7000</td>\n",
       "      <td>42.778</td>\n",
       "      <td>42.6949</td>\n",
       "      <td>0.3722</td>\n",
       "      <td>1.1743</td>\n",
       "      <td>6.7307</td>\n",
       "    </tr>\n",
       "    <tr>\n",
       "      <th>6175</th>\n",
       "      <td>1999-01-05</td>\n",
       "      <td>1.8944</td>\n",
       "      <td>NaN</td>\n",
       "      <td>NaN</td>\n",
       "      <td>1.7965</td>\n",
       "      <td>1.6123</td>\n",
       "      <td>NaN</td>\n",
       "      <td>0.58230</td>\n",
       "      <td>34.917</td>\n",
       "      <td>7.4495</td>\n",
       "      <td>...</td>\n",
       "      <td>1.3168</td>\n",
       "      <td>26.5876</td>\n",
       "      <td>9.4025</td>\n",
       "      <td>1.9655</td>\n",
       "      <td>188.7750</td>\n",
       "      <td>42.848</td>\n",
       "      <td>42.5048</td>\n",
       "      <td>0.3728</td>\n",
       "      <td>1.1790</td>\n",
       "      <td>6.7975</td>\n",
       "    </tr>\n",
       "    <tr>\n",
       "      <th>6176</th>\n",
       "      <td>1999-01-04</td>\n",
       "      <td>1.9100</td>\n",
       "      <td>NaN</td>\n",
       "      <td>NaN</td>\n",
       "      <td>1.8004</td>\n",
       "      <td>1.6168</td>\n",
       "      <td>NaN</td>\n",
       "      <td>0.58231</td>\n",
       "      <td>35.107</td>\n",
       "      <td>7.4501</td>\n",
       "      <td>...</td>\n",
       "      <td>1.3111</td>\n",
       "      <td>25.2875</td>\n",
       "      <td>9.4696</td>\n",
       "      <td>1.9554</td>\n",
       "      <td>189.0450</td>\n",
       "      <td>42.991</td>\n",
       "      <td>42.6799</td>\n",
       "      <td>0.3723</td>\n",
       "      <td>1.1789</td>\n",
       "      <td>6.9358</td>\n",
       "    </tr>\n",
       "  </tbody>\n",
       "</table>\n",
       "<p>5 rows × 41 columns</p>\n",
       "</div>"
      ],
      "text/plain": [
       "     Period\\Unit: [Australian dollar ] [Bulgarian lev ] [Brazilian real ]  \\\n",
       "6172   1999-01-08               1.8406              NaN               NaN   \n",
       "6173   1999-01-07               1.8474              NaN               NaN   \n",
       "6174   1999-01-06               1.8820              NaN               NaN   \n",
       "6175   1999-01-05               1.8944              NaN               NaN   \n",
       "6176   1999-01-04               1.9100              NaN               NaN   \n",
       "\n",
       "     [Canadian dollar ] [Swiss franc ] [Chinese yuan renminbi ]  \\\n",
       "6172             1.7643         1.6138                      NaN   \n",
       "6173             1.7602         1.6165                      NaN   \n",
       "6174             1.7711         1.6116                      NaN   \n",
       "6175             1.7965         1.6123                      NaN   \n",
       "6176             1.8004         1.6168                      NaN   \n",
       "\n",
       "     [Cypriot pound ] [Czech koruna ] [Danish krone ]  ... [Romanian leu ]  \\\n",
       "6172          0.58187          34.938          7.4433  ...          1.3143   \n",
       "6173          0.58187          34.886          7.4431  ...          1.3092   \n",
       "6174          0.58200          34.850          7.4452  ...          1.3168   \n",
       "6175          0.58230          34.917          7.4495  ...          1.3168   \n",
       "6176          0.58231          35.107          7.4501  ...          1.3111   \n",
       "\n",
       "     [Russian rouble ] [Swedish krona ] [Singapore dollar ]  \\\n",
       "6172           27.2075           9.1650              1.9537   \n",
       "6173           26.9876           9.1800              1.9436   \n",
       "6174           27.4315           9.3050              1.9699   \n",
       "6175           26.5876           9.4025              1.9655   \n",
       "6176           25.2875           9.4696              1.9554   \n",
       "\n",
       "     [Slovenian tolar ] [Slovak koruna ] [Thai baht ] [Turkish lira ]  \\\n",
       "6172           188.8400           42.560      42.5590          0.3718   \n",
       "6173           188.8000           42.765      42.1678          0.3701   \n",
       "6174           188.7000           42.778      42.6949          0.3722   \n",
       "6175           188.7750           42.848      42.5048          0.3728   \n",
       "6176           189.0450           42.991      42.6799          0.3723   \n",
       "\n",
       "     [US dollar ]  [South African rand ]  \n",
       "6172       1.1659                 6.7855  \n",
       "6173       1.1632                 6.8283  \n",
       "6174       1.1743                 6.7307  \n",
       "6175       1.1790                 6.7975  \n",
       "6176       1.1789                 6.9358  \n",
       "\n",
       "[5 rows x 41 columns]"
      ]
     },
     "execution_count": 3,
     "metadata": {},
     "output_type": "execute_result"
    }
   ],
   "source": [
    "exchange_rates.tail()"
   ]
  },
  {
   "cell_type": "code",
   "execution_count": 4,
   "metadata": {},
   "outputs": [
    {
     "name": "stdout",
     "output_type": "stream",
     "text": [
      "<class 'pandas.core.frame.DataFrame'>\n",
      "RangeIndex: 6177 entries, 0 to 6176\n",
      "Data columns (total 41 columns):\n",
      " #   Column                    Non-Null Count  Dtype  \n",
      "---  ------                    --------------  -----  \n",
      " 0   Period\\Unit:              6177 non-null   object \n",
      " 1   [Australian dollar ]      6177 non-null   object \n",
      " 2   [Bulgarian lev ]          5775 non-null   object \n",
      " 3   [Brazilian real ]         5909 non-null   object \n",
      " 4   [Canadian dollar ]        6177 non-null   object \n",
      " 5   [Swiss franc ]            6177 non-null   object \n",
      " 6   [Chinese yuan renminbi ]  5909 non-null   object \n",
      " 7   [Cypriot pound ]          2346 non-null   object \n",
      " 8   [Czech koruna ]           6177 non-null   object \n",
      " 9   [Danish krone ]           6177 non-null   object \n",
      " 10  [Estonian kroon ]         3130 non-null   object \n",
      " 11  [UK pound sterling ]      6177 non-null   object \n",
      " 12  [Greek drachma ]          520 non-null    object \n",
      " 13  [Hong Kong dollar ]       6177 non-null   object \n",
      " 14  [Croatian kuna ]          5909 non-null   object \n",
      " 15  [Hungarian forint ]       6177 non-null   object \n",
      " 16  [Indonesian rupiah ]      6177 non-null   object \n",
      " 17  [Israeli shekel ]         5909 non-null   object \n",
      " 18  [Indian rupee ]           5909 non-null   object \n",
      " 19  [Iceland krona ]          3770 non-null   float64\n",
      " 20  [Japanese yen ]           6177 non-null   object \n",
      " 21  [Korean won ]             6177 non-null   object \n",
      " 22  [Lithuanian litas ]       4159 non-null   object \n",
      " 23  [Latvian lats ]           3904 non-null   object \n",
      " 24  [Maltese lira ]           2346 non-null   object \n",
      " 25  [Mexican peso ]           6177 non-null   object \n",
      " 26  [Malaysian ringgit ]      6177 non-null   object \n",
      " 27  [Norwegian krone ]        6177 non-null   object \n",
      " 28  [New Zealand dollar ]     6177 non-null   object \n",
      " 29  [Philippine peso ]        6177 non-null   object \n",
      " 30  [Polish zloty ]           6177 non-null   object \n",
      " 31  [Romanian leu ]           6115 non-null   float64\n",
      " 32  [Russian rouble ]         5994 non-null   object \n",
      " 33  [Swedish krona ]          6177 non-null   object \n",
      " 34  [Singapore dollar ]       6177 non-null   object \n",
      " 35  [Slovenian tolar ]        2085 non-null   object \n",
      " 36  [Slovak koruna ]          2608 non-null   object \n",
      " 37  [Thai baht ]              6177 non-null   object \n",
      " 38  [Turkish lira ]           6115 non-null   float64\n",
      " 39  [US dollar ]              6177 non-null   object \n",
      " 40  [South African rand ]     6177 non-null   object \n",
      "dtypes: float64(3), object(38)\n",
      "memory usage: 1.9+ MB\n"
     ]
    }
   ],
   "source": [
    "exchange_rates.info()"
   ]
  },
  {
   "cell_type": "markdown",
   "metadata": {},
   "source": [
    "Time series is in descending order.First recorded on 1999-01-04 till 2022-11-15<br>\n",
    "We focus on `Period/Unit:` , `[Hong Kong dollar ]` columns. \n",
    "There are 0 null values."
   ]
  },
  {
   "cell_type": "markdown",
   "metadata": {},
   "source": [
    "### Dataset for Hong Kong\n",
    "First we will isolate columns related to Hong Kong Dollars"
   ]
  },
  {
   "cell_type": "code",
   "execution_count": 5,
   "metadata": {},
   "outputs": [
    {
     "data": {
      "text/html": [
       "<div>\n",
       "<style scoped>\n",
       "    .dataframe tbody tr th:only-of-type {\n",
       "        vertical-align: middle;\n",
       "    }\n",
       "\n",
       "    .dataframe tbody tr th {\n",
       "        vertical-align: top;\n",
       "    }\n",
       "\n",
       "    .dataframe thead th {\n",
       "        text-align: right;\n",
       "    }\n",
       "</style>\n",
       "<table border=\"1\" class=\"dataframe\">\n",
       "  <thead>\n",
       "    <tr style=\"text-align: right;\">\n",
       "      <th></th>\n",
       "      <th>Period\\Unit:</th>\n",
       "      <th>[Hong Kong dollar ]</th>\n",
       "    </tr>\n",
       "  </thead>\n",
       "  <tbody>\n",
       "    <tr>\n",
       "      <th>0</th>\n",
       "      <td>2022-11-15</td>\n",
       "      <td>8.1430</td>\n",
       "    </tr>\n",
       "    <tr>\n",
       "      <th>1</th>\n",
       "      <td>2022-11-14</td>\n",
       "      <td>8.0852</td>\n",
       "    </tr>\n",
       "    <tr>\n",
       "      <th>2</th>\n",
       "      <td>2022-11-11</td>\n",
       "      <td>8.0758</td>\n",
       "    </tr>\n",
       "    <tr>\n",
       "      <th>3</th>\n",
       "      <td>2022-11-10</td>\n",
       "      <td>7.8128</td>\n",
       "    </tr>\n",
       "    <tr>\n",
       "      <th>4</th>\n",
       "      <td>2022-11-09</td>\n",
       "      <td>7.8801</td>\n",
       "    </tr>\n",
       "  </tbody>\n",
       "</table>\n",
       "</div>"
      ],
      "text/plain": [
       "  Period\\Unit: [Hong Kong dollar ]\n",
       "0   2022-11-15              8.1430\n",
       "1   2022-11-14              8.0852\n",
       "2   2022-11-11              8.0758\n",
       "3   2022-11-10              7.8128\n",
       "4   2022-11-09              7.8801"
      ]
     },
     "execution_count": 5,
     "metadata": {},
     "output_type": "execute_result"
    }
   ],
   "source": [
    "euro_to_hkd = exchange_rates[['Period\\\\Unit:','[Hong Kong dollar ]']].copy()\n",
    "euro_to_hkd.head()"
   ]
  },
  {
   "cell_type": "markdown",
   "metadata": {},
   "source": [
    "### Data Cleaning\n",
    "\n",
    "We do the following in this section:\n",
    "\n",
    "- Rename [Hong Kong dollar] , Period\\Unit: columns to something easier to type hk_dollar and time\n",
    "- Change Time column to datetime data type\n",
    "- Sort the values of time in ascending order\n",
    "- Reset the index\n",
    "- Convert `hk_dollar` column to float data type"
   ]
  },
  {
   "cell_type": "code",
   "execution_count": 6,
   "metadata": {},
   "outputs": [
    {
     "data": {
      "text/html": [
       "<div>\n",
       "<style scoped>\n",
       "    .dataframe tbody tr th:only-of-type {\n",
       "        vertical-align: middle;\n",
       "    }\n",
       "\n",
       "    .dataframe tbody tr th {\n",
       "        vertical-align: top;\n",
       "    }\n",
       "\n",
       "    .dataframe thead th {\n",
       "        text-align: right;\n",
       "    }\n",
       "</style>\n",
       "<table border=\"1\" class=\"dataframe\">\n",
       "  <thead>\n",
       "    <tr style=\"text-align: right;\">\n",
       "      <th></th>\n",
       "      <th>Time</th>\n",
       "      <th>hk_dollar</th>\n",
       "    </tr>\n",
       "  </thead>\n",
       "  <tbody>\n",
       "    <tr>\n",
       "      <th>0</th>\n",
       "      <td>1999-01-04</td>\n",
       "      <td>9.1332</td>\n",
       "    </tr>\n",
       "    <tr>\n",
       "      <th>1</th>\n",
       "      <td>1999-01-05</td>\n",
       "      <td>9.1341</td>\n",
       "    </tr>\n",
       "    <tr>\n",
       "      <th>2</th>\n",
       "      <td>1999-01-06</td>\n",
       "      <td>9.1010</td>\n",
       "    </tr>\n",
       "    <tr>\n",
       "      <th>3</th>\n",
       "      <td>1999-01-07</td>\n",
       "      <td>9.0131</td>\n",
       "    </tr>\n",
       "    <tr>\n",
       "      <th>4</th>\n",
       "      <td>1999-01-08</td>\n",
       "      <td>9.0302</td>\n",
       "    </tr>\n",
       "  </tbody>\n",
       "</table>\n",
       "</div>"
      ],
      "text/plain": [
       "        Time hk_dollar\n",
       "0 1999-01-04    9.1332\n",
       "1 1999-01-05    9.1341\n",
       "2 1999-01-06    9.1010\n",
       "3 1999-01-07    9.0131\n",
       "4 1999-01-08    9.0302"
      ]
     },
     "execution_count": 6,
     "metadata": {},
     "output_type": "execute_result"
    }
   ],
   "source": [
    "euro_to_hkd.rename(columns={'Period\\\\Unit:':'Time','[Hong Kong dollar ]':'hk_dollar'},inplace=True)\n",
    "euro_to_hkd['Time'] = pd.to_datetime(euro_to_hkd['Time'])\n",
    "euro_to_hkd.sort_values('Time',inplace=True,ignore_index= True)\n",
    "euro_to_hkd.head()"
   ]
  },
  {
   "cell_type": "code",
   "execution_count": 7,
   "metadata": {},
   "outputs": [
    {
     "name": "stdout",
     "output_type": "stream",
     "text": [
      "<class 'pandas.core.frame.DataFrame'>\n",
      "RangeIndex: 6177 entries, 0 to 6176\n",
      "Data columns (total 2 columns):\n",
      " #   Column     Non-Null Count  Dtype         \n",
      "---  ------     --------------  -----         \n",
      " 0   Time       6177 non-null   datetime64[ns]\n",
      " 1   hk_dollar  6177 non-null   object        \n",
      "dtypes: datetime64[ns](1), object(1)\n",
      "memory usage: 96.6+ KB\n"
     ]
    }
   ],
   "source": [
    "euro_to_hkd.info()"
   ]
  },
  {
   "cell_type": "code",
   "execution_count": 8,
   "metadata": {},
   "outputs": [
    {
     "data": {
      "text/plain": [
       "-          62\n",
       "10.2548     3\n",
       "8.7585      3\n",
       "9.2900      3\n",
       "10.5882     3\n",
       "           ..\n",
       "10.2506     1\n",
       "10.2591     1\n",
       "10.2213     1\n",
       "10.1756     1\n",
       "8.1430      1\n",
       "Name: hk_dollar, Length: 5655, dtype: int64"
      ]
     },
     "execution_count": 8,
     "metadata": {},
     "output_type": "execute_result"
    }
   ],
   "source": [
    "euro_to_hkd['hk_dollar'].value_counts()"
   ]
  },
  {
   "cell_type": "markdown",
   "metadata": {},
   "source": [
    "We will remove character '-' and convert `hk_dollar` column to float type"
   ]
  },
  {
   "cell_type": "code",
   "execution_count": 9,
   "metadata": {},
   "outputs": [
    {
     "name": "stdout",
     "output_type": "stream",
     "text": [
      "<class 'pandas.core.frame.DataFrame'>\n",
      "Int64Index: 6115 entries, 0 to 6176\n",
      "Data columns (total 2 columns):\n",
      " #   Column     Non-Null Count  Dtype         \n",
      "---  ------     --------------  -----         \n",
      " 0   Time       6115 non-null   datetime64[ns]\n",
      " 1   hk_dollar  6115 non-null   float64       \n",
      "dtypes: datetime64[ns](1), float64(1)\n",
      "memory usage: 143.3 KB\n"
     ]
    }
   ],
   "source": [
    "euro_to_hkd = euro_to_hkd[(euro_to_hkd['hk_dollar'] != '-')]\n",
    "euro_to_hkd['hk_dollar'] = euro_to_hkd['hk_dollar'].astype(float)\n",
    "euro_to_hkd.info()\n",
    "# euro_to_hkd['hk_dollar'] = euro_to_hkd['hk_dollar'].astype(float)"
   ]
  },
  {
   "cell_type": "code",
   "execution_count": 10,
   "metadata": {},
   "outputs": [
    {
     "data": {
      "text/html": [
       "<div>\n",
       "<style scoped>\n",
       "    .dataframe tbody tr th:only-of-type {\n",
       "        vertical-align: middle;\n",
       "    }\n",
       "\n",
       "    .dataframe tbody tr th {\n",
       "        vertical-align: top;\n",
       "    }\n",
       "\n",
       "    .dataframe thead th {\n",
       "        text-align: right;\n",
       "    }\n",
       "</style>\n",
       "<table border=\"1\" class=\"dataframe\">\n",
       "  <thead>\n",
       "    <tr style=\"text-align: right;\">\n",
       "      <th></th>\n",
       "      <th>hk_dollar</th>\n",
       "    </tr>\n",
       "  </thead>\n",
       "  <tbody>\n",
       "    <tr>\n",
       "      <th>count</th>\n",
       "      <td>6115.000000</td>\n",
       "    </tr>\n",
       "    <tr>\n",
       "      <th>mean</th>\n",
       "      <td>9.287499</td>\n",
       "    </tr>\n",
       "    <tr>\n",
       "      <th>std</th>\n",
       "      <td>1.227199</td>\n",
       "    </tr>\n",
       "    <tr>\n",
       "      <th>min</th>\n",
       "      <td>6.436100</td>\n",
       "    </tr>\n",
       "    <tr>\n",
       "      <th>25%</th>\n",
       "      <td>8.515450</td>\n",
       "    </tr>\n",
       "    <tr>\n",
       "      <th>50%</th>\n",
       "      <td>9.247000</td>\n",
       "    </tr>\n",
       "    <tr>\n",
       "      <th>75%</th>\n",
       "      <td>10.191100</td>\n",
       "    </tr>\n",
       "    <tr>\n",
       "      <th>max</th>\n",
       "      <td>12.470200</td>\n",
       "    </tr>\n",
       "  </tbody>\n",
       "</table>\n",
       "</div>"
      ],
      "text/plain": [
       "         hk_dollar\n",
       "count  6115.000000\n",
       "mean      9.287499\n",
       "std       1.227199\n",
       "min       6.436100\n",
       "25%       8.515450\n",
       "50%       9.247000\n",
       "75%      10.191100\n",
       "max      12.470200"
      ]
     },
     "execution_count": 10,
     "metadata": {},
     "output_type": "execute_result"
    }
   ],
   "source": [
    "euro_to_hkd.describe()"
   ]
  },
  {
   "cell_type": "markdown",
   "metadata": {},
   "source": [
    "In 20 years , Euro-HKD Exchange Rate peaked highest to 12.47 during June of 2008 Financial Crisis"
   ]
  },
  {
   "cell_type": "code",
   "execution_count": 11,
   "metadata": {},
   "outputs": [
    {
     "data": {
      "text/html": [
       "<div>\n",
       "<style scoped>\n",
       "    .dataframe tbody tr th:only-of-type {\n",
       "        vertical-align: middle;\n",
       "    }\n",
       "\n",
       "    .dataframe tbody tr th {\n",
       "        vertical-align: top;\n",
       "    }\n",
       "\n",
       "    .dataframe thead th {\n",
       "        text-align: right;\n",
       "    }\n",
       "</style>\n",
       "<table border=\"1\" class=\"dataframe\">\n",
       "  <thead>\n",
       "    <tr style=\"text-align: right;\">\n",
       "      <th></th>\n",
       "      <th>Time</th>\n",
       "      <th>hk_dollar</th>\n",
       "    </tr>\n",
       "  </thead>\n",
       "  <tbody>\n",
       "    <tr>\n",
       "      <th>2486</th>\n",
       "      <td>2008-07-15</td>\n",
       "      <td>12.4702</td>\n",
       "    </tr>\n",
       "  </tbody>\n",
       "</table>\n",
       "</div>"
      ],
      "text/plain": [
       "           Time  hk_dollar\n",
       "2486 2008-07-15    12.4702"
      ]
     },
     "execution_count": 11,
     "metadata": {},
     "output_type": "execute_result"
    }
   ],
   "source": [
    "euro_to_hkd.copy()[euro_to_hkd['hk_dollar'] == euro_to_hkd['hk_dollar'].max()]"
   ]
  },
  {
   "cell_type": "code",
   "execution_count": 12,
   "metadata": {},
   "outputs": [
    {
     "data": {
      "text/html": [
       "<div>\n",
       "<style scoped>\n",
       "    .dataframe tbody tr th:only-of-type {\n",
       "        vertical-align: middle;\n",
       "    }\n",
       "\n",
       "    .dataframe tbody tr th {\n",
       "        vertical-align: top;\n",
       "    }\n",
       "\n",
       "    .dataframe thead th {\n",
       "        text-align: right;\n",
       "    }\n",
       "</style>\n",
       "<table border=\"1\" class=\"dataframe\">\n",
       "  <thead>\n",
       "    <tr style=\"text-align: right;\">\n",
       "      <th></th>\n",
       "      <th>Time</th>\n",
       "      <th>hk_dollar</th>\n",
       "    </tr>\n",
       "  </thead>\n",
       "  <tbody>\n",
       "    <tr>\n",
       "      <th>473</th>\n",
       "      <td>2000-10-26</td>\n",
       "      <td>6.4361</td>\n",
       "    </tr>\n",
       "  </tbody>\n",
       "</table>\n",
       "</div>"
      ],
      "text/plain": [
       "          Time  hk_dollar\n",
       "473 2000-10-26     6.4361"
      ]
     },
     "execution_count": 12,
     "metadata": {},
     "output_type": "execute_result"
    }
   ],
   "source": [
    "euro_to_hkd.copy()[euro_to_hkd['hk_dollar'] == euro_to_hkd['hk_dollar'].min()]"
   ]
  },
  {
   "cell_type": "markdown",
   "metadata": {},
   "source": [
    "### Rolling Average"
   ]
  },
  {
   "cell_type": "code",
   "execution_count": 13,
   "metadata": {},
   "outputs": [
    {
     "data": {
      "text/plain": [
       "[<matplotlib.lines.Line2D at 0x2366c992fa0>]"
      ]
     },
     "execution_count": 13,
     "metadata": {},
     "output_type": "execute_result"
    },
    {
     "data": {
      "image/png": "[encoded data removed]",
      "text/plain": [
       "<Figure size 432x288 with 1 Axes>"
      ]
     },
     "metadata": {
      "needs_background": "light"
     },
     "output_type": "display_data"
    }
   ],
   "source": [
    "%matplotlib inline\n",
    "plt.plot(euro_to_hkd['Time'],euro_to_hkd['hk_dollar'])"
   ]
  },
  {
   "cell_type": "markdown",
   "metadata": {},
   "source": [
    "Let's look into average with different rolling average window."
   ]
  },
  {
   "cell_type": "code",
   "execution_count": 14,
   "metadata": {},
   "outputs": [
    {
     "data": {
      "image/png": "[encoded data removed]",
      "text/plain": [
       "<Figure size 864x432 with 6 Axes>"
      ]
     },
     "metadata": {
      "needs_background": "light"
     },
     "output_type": "display_data"
    }
   ],
   "source": [
    "fig,axes = plt.subplots(nrows=3,ncols=2,figsize=(12,6))\n",
    "rolling_window = [1,7, 30, 50, 100, 365]\n",
    "for ax,window in zip(axes.flatten(),rolling_window):\n",
    "    rolling_avg = euro_to_hkd['hk_dollar'].rolling(window).mean()\n",
    "    ax.plot(euro_to_hkd['Time'],rolling_avg)\n",
    "    ax.set_title('Rolling average : ' + str(window))\n",
    "plt.tight_layout()"
   ]
  },
  {
   "cell_type": "code",
   "execution_count": 15,
   "metadata": {},
   "outputs": [
    {
     "data": {
      "text/html": [
       "<div>\n",
       "<style scoped>\n",
       "    .dataframe tbody tr th:only-of-type {\n",
       "        vertical-align: middle;\n",
       "    }\n",
       "\n",
       "    .dataframe tbody tr th {\n",
       "        vertical-align: top;\n",
       "    }\n",
       "\n",
       "    .dataframe thead th {\n",
       "        text-align: right;\n",
       "    }\n",
       "</style>\n",
       "<table border=\"1\" class=\"dataframe\">\n",
       "  <thead>\n",
       "    <tr style=\"text-align: right;\">\n",
       "      <th></th>\n",
       "      <th>Time</th>\n",
       "      <th>hk_dollar</th>\n",
       "      <th>rolling_avg</th>\n",
       "    </tr>\n",
       "  </thead>\n",
       "  <tbody>\n",
       "    <tr>\n",
       "      <th>0</th>\n",
       "      <td>1999-01-04</td>\n",
       "      <td>9.1332</td>\n",
       "      <td>NaN</td>\n",
       "    </tr>\n",
       "    <tr>\n",
       "      <th>1</th>\n",
       "      <td>1999-01-05</td>\n",
       "      <td>9.1341</td>\n",
       "      <td>NaN</td>\n",
       "    </tr>\n",
       "    <tr>\n",
       "      <th>2</th>\n",
       "      <td>1999-01-06</td>\n",
       "      <td>9.1010</td>\n",
       "      <td>NaN</td>\n",
       "    </tr>\n",
       "    <tr>\n",
       "      <th>3</th>\n",
       "      <td>1999-01-07</td>\n",
       "      <td>9.0131</td>\n",
       "      <td>NaN</td>\n",
       "    </tr>\n",
       "    <tr>\n",
       "      <th>4</th>\n",
       "      <td>1999-01-08</td>\n",
       "      <td>9.0302</td>\n",
       "      <td>NaN</td>\n",
       "    </tr>\n",
       "    <tr>\n",
       "      <th>...</th>\n",
       "      <td>...</td>\n",
       "      <td>...</td>\n",
       "      <td>...</td>\n",
       "    </tr>\n",
       "    <tr>\n",
       "      <th>6172</th>\n",
       "      <td>2022-11-09</td>\n",
       "      <td>7.8801</td>\n",
       "      <td>7.726763</td>\n",
       "    </tr>\n",
       "    <tr>\n",
       "      <th>6173</th>\n",
       "      <td>2022-11-10</td>\n",
       "      <td>7.8128</td>\n",
       "      <td>7.733217</td>\n",
       "    </tr>\n",
       "    <tr>\n",
       "      <th>6174</th>\n",
       "      <td>2022-11-11</td>\n",
       "      <td>8.0758</td>\n",
       "      <td>7.747340</td>\n",
       "    </tr>\n",
       "    <tr>\n",
       "      <th>6175</th>\n",
       "      <td>2022-11-14</td>\n",
       "      <td>8.0852</td>\n",
       "      <td>7.761357</td>\n",
       "    </tr>\n",
       "    <tr>\n",
       "      <th>6176</th>\n",
       "      <td>2022-11-15</td>\n",
       "      <td>8.1430</td>\n",
       "      <td>7.773977</td>\n",
       "    </tr>\n",
       "  </tbody>\n",
       "</table>\n",
       "<p>6115 rows × 3 columns</p>\n",
       "</div>"
      ],
      "text/plain": [
       "           Time  hk_dollar  rolling_avg\n",
       "0    1999-01-04     9.1332          NaN\n",
       "1    1999-01-05     9.1341          NaN\n",
       "2    1999-01-06     9.1010          NaN\n",
       "3    1999-01-07     9.0131          NaN\n",
       "4    1999-01-08     9.0302          NaN\n",
       "...         ...        ...          ...\n",
       "6172 2022-11-09     7.8801     7.726763\n",
       "6173 2022-11-10     7.8128     7.733217\n",
       "6174 2022-11-11     8.0758     7.747340\n",
       "6175 2022-11-14     8.0852     7.761357\n",
       "6176 2022-11-15     8.1430     7.773977\n",
       "\n",
       "[6115 rows x 3 columns]"
      ]
     },
     "execution_count": 15,
     "metadata": {},
     "output_type": "execute_result"
    }
   ],
   "source": [
    "euro_to_hkd['rolling_avg'] = euro_to_hkd['hk_dollar'].rolling(30).mean()\n",
    "euro_to_hkd"
   ]
  },
  {
   "cell_type": "markdown",
   "metadata": {},
   "source": [
    "###  Coming Up With an Idea\n",
    "Here are a few story ideas for our data:\n",
    "\n",
    " - We show how the euro-dollar rate has changed during the coronavirus pandemic. We can show the 2020 data and the 2016-2019 data as a baseline. We can use a line plot.\n",
    " - We show how the euro-dollar rate changed during the 2007-2008's financial crisis. We can also show the data for 2066 and 2009 for comparison. We can use a line plot.\n",
    " - We show comparatively how the euro-dollar rate changed under the last three Chief Executives. We can use a line plot"
   ]
  },
  {
   "cell_type": "markdown",
   "metadata": {},
   "source": [
    "## During Pandemic"
   ]
  },
  {
   "cell_type": "code",
   "execution_count": 16,
   "metadata": {},
   "outputs": [],
   "source": [
    "pandemic = euro_to_hkd.copy(\n",
    "            )[euro_to_hkd['Time'].dt.year >=2020]\n",
    "pre_pandemic = euro_to_hkd.copy(\n",
    "            )[(euro_to_hkd['Time'].dt.year >= 2016\n",
    "            ) & (euro_to_hkd['Time'].dt.year<=2019)]"
   ]
  },
  {
   "cell_type": "code",
   "execution_count": 17,
   "metadata": {},
   "outputs": [
    {
     "data": {
      "image/png": "[encoded data removed]",
      "text/plain": [
       "<Figure size 576x360 with 1 Axes>"
      ]
     },
     "metadata": {},
     "output_type": "display_data"
    }
   ],
   "source": [
    "style.use('ggplot')\n",
    "fig, ax= plt.subplots(figsize=(8,5))\n",
    "\n",
    "#During pandemic\n",
    "ax.plot(pandemic['Time'],pandemic['rolling_avg'])\n",
    "\n",
    "#Pre-Pandemic\n",
    "ax.plot(pre_pandemic['Time'],pre_pandemic['rolling_avg'],color='grey',alpha=0.3)\n",
    "\n",
    "#highlighting peak during pandemic\n",
    "# ax.axvspan(xmin=18320,xmax=18500, ymin=0.05,color='grey',alpha=0.3)\n",
    "ax.axvspan(xmin=18570,xmax=18900, ymin=0.0,color='grey',alpha=0.3)\n",
    "\n",
    "#Adding title\n",
    "ax.text(16500,9.95,'Euro-HKD exchange rate peaked to 9.56 during Pandemic',weight='bold',size=16)\n",
    "\n",
    "#Removing default tick labels\n",
    "ax.set_xticklabels([])\n",
    "ax.set_yticklabels([])\n",
    "\n",
    "#Adding separate y-tick labels\n",
    "y=7.75\n",
    "for label in [7.75,8.25,8.75,9.25,9.75]:\n",
    "    ax.text(16500,y,label,alpha=0.5,size=10)\n",
    "    y+=0.49\n",
    "    \n",
    "#Adding separate x-tick labels\n",
    "x=16722\n",
    "for label in [2016,2018,2020,2022]:\n",
    "    ax.text(x,7.50,label,alpha=0.5,size=10)\n",
    "    x+=735\n",
    "plt.savefig('pandemic.png')"
   ]
  },
  {
   "cell_type": "markdown",
   "metadata": {},
   "source": [
    "The onset of the COVID-19 pandemic in March 2020 turned the world upside down.\n",
    "Euro-HKD exchange rate continuously fell during early pandemic days and soared highest to 9.56 on Jan 2021.Last record 2022-11-15 @ 7.51 on this dataset is lowest so far since the pandemic."
   ]
  },
  {
   "cell_type": "markdown",
   "metadata": {},
   "source": [
    "## During Financial Crisis"
   ]
  },
  {
   "cell_type": "code",
   "execution_count": 144,
   "metadata": {},
   "outputs": [],
   "source": [
    "financial_crisis = euro_to_hkd.copy(\n",
    "                )[(euro_to_hkd['Time'].dt.year >=2006) \n",
    "                  & (euro_to_hkd['Time'].dt.year <=2009)]\n",
    "financial_crisis_7_8 = euro_to_hkd.copy(\n",
    "                )[(euro_to_hkd['Time'].dt.year >=2007) \n",
    "                  & (euro_to_hkd['Time'].dt.year <=2008)]"
   ]
  },
  {
   "cell_type": "markdown",
   "metadata": {},
   "source": [
    "During 2008 Euro-HKD exchange rate peaked highest at 12.47. It is highest record so far over 20 years."
   ]
  },
  {
   "cell_type": "code",
   "execution_count": 206,
   "metadata": {},
   "outputs": [
    {
     "data": {
      "text/html": [
       "<div>\n",
       "<style scoped>\n",
       "    .dataframe tbody tr th:only-of-type {\n",
       "        vertical-align: middle;\n",
       "    }\n",
       "\n",
       "    .dataframe tbody tr th {\n",
       "        vertical-align: top;\n",
       "    }\n",
       "\n",
       "    .dataframe thead th {\n",
       "        text-align: right;\n",
       "    }\n",
       "</style>\n",
       "<table border=\"1\" class=\"dataframe\">\n",
       "  <thead>\n",
       "    <tr style=\"text-align: right;\">\n",
       "      <th></th>\n",
       "      <th>Time</th>\n",
       "      <th>hk_dollar</th>\n",
       "      <th>rolling_avg</th>\n",
       "    </tr>\n",
       "  </thead>\n",
       "  <tbody>\n",
       "    <tr>\n",
       "      <th>2486</th>\n",
       "      <td>2008-07-15</td>\n",
       "      <td>12.4702</td>\n",
       "      <td>12.203287</td>\n",
       "    </tr>\n",
       "  </tbody>\n",
       "</table>\n",
       "</div>"
      ],
      "text/plain": [
       "           Time  hk_dollar  rolling_avg\n",
       "2486 2008-07-15    12.4702    12.203287"
      ]
     },
     "execution_count": 206,
     "metadata": {},
     "output_type": "execute_result"
    }
   ],
   "source": [
    "#Max exchange rate between 2007-2008\n",
    "financial_crisis_7_8.copy(\n",
    "            )[financial_crisis_7_8['hk_dollar'] \n",
    "              == financial_crisis_7_8['hk_dollar'].max()]"
   ]
  },
  {
   "cell_type": "code",
   "execution_count": 205,
   "metadata": {},
   "outputs": [
    {
     "data": {
      "text/html": [
       "<div>\n",
       "<style scoped>\n",
       "    .dataframe tbody tr th:only-of-type {\n",
       "        vertical-align: middle;\n",
       "    }\n",
       "\n",
       "    .dataframe tbody tr th {\n",
       "        vertical-align: top;\n",
       "    }\n",
       "\n",
       "    .dataframe thead th {\n",
       "        text-align: right;\n",
       "    }\n",
       "</style>\n",
       "<table border=\"1\" class=\"dataframe\">\n",
       "  <thead>\n",
       "    <tr style=\"text-align: right;\">\n",
       "      <th></th>\n",
       "      <th>Time</th>\n",
       "      <th>hk_dollar</th>\n",
       "      <th>rolling_avg</th>\n",
       "    </tr>\n",
       "  </thead>\n",
       "  <tbody>\n",
       "    <tr>\n",
       "      <th>2560</th>\n",
       "      <td>2008-10-27</td>\n",
       "      <td>9.6574</td>\n",
       "      <td>10.729907</td>\n",
       "    </tr>\n",
       "  </tbody>\n",
       "</table>\n",
       "</div>"
      ],
      "text/plain": [
       "           Time  hk_dollar  rolling_avg\n",
       "2560 2008-10-27     9.6574    10.729907"
      ]
     },
     "execution_count": 205,
     "metadata": {},
     "output_type": "execute_result"
    }
   ],
   "source": [
    "#Min exchange rate between 2007-2008\n",
    "financial_crisis_7_8.copy(\n",
    "            )[financial_crisis_7_8['hk_dollar'] \n",
    "              == financial_crisis_7_8['hk_dollar'].min()]"
   ]
  },
  {
   "cell_type": "code",
   "execution_count": 266,
   "metadata": {},
   "outputs": [
    {
     "data": {
      "text/plain": [
       "Text(12950, 12.55, 'Euro-HKD exchange rates between 2006 and 2010')"
      ]
     },
     "execution_count": 266,
     "metadata": {},
     "output_type": "execute_result"
    },
    {
     "data": {
      "image/png": "[encoded data removed]",
      "text/plain": [
       "<Figure size 576x360 with 1 Axes>"
      ]
     },
     "metadata": {},
     "output_type": "display_data"
    }
   ],
   "source": [
    "style.use('fivethirtyeight')\n",
    "fig, ax = plt.subplots(figsize=(8,5))\n",
    "ax.plot(financial_crisis['Time'],financial_crisis['rolling_avg'],alpha=0.5,linewidth=5,color='grey')\n",
    "ax.plot(financial_crisis_7_8['Time'],financial_crisis_7_8['rolling_avg'],linewidth=5,color='red')\n",
    "\n",
    "ax.axvspan(xmin=13920,xmax=14150,color='grey',alpha=0.3)\n",
    "\n",
    "ax.set_xticklabels([])\n",
    "ax.set_yticklabels([])\n",
    "#Adding separate x-tick labels\n",
    "x=13100\n",
    "for label in [2006,2007,2008,2009,2010]:\n",
    "    ax.text(x,8.70,label,alpha=0.3,size=10)\n",
    "    x+=375\n",
    "#Adding separate y-tick labels\n",
    "y=9.45\n",
    "for label in [9.5,10.0,10.5,11.0,11.5,12.0]:\n",
    "    ax.text(12950,y,label,alpha=0.3,size=10)\n",
    "    y+=0.50\n",
    "ax.text(12950,12.8,'Euro-HKD peaked highest at 12.47 during 2007-08\\'s Financial Crisis in over 20 Years',weight= 'bold',fontsize=12)\n",
    "ax.text(12950,12.55,'Euro-HKD exchange rates between 2006 and 2010',fontsize=11)"
   ]
  },
  {
   "cell_type": "markdown",
   "metadata": {},
   "source": [
    "## Under three Chief Executives of Hong Kong\n"
   ]
  },
  {
   "cell_type": "code",
   "execution_count": 18,
   "metadata": {},
   "outputs": [],
   "source": [
    "all_three = euro_to_hkd.copy(\n",
    "                )[(euro_to_hkd['Time'].dt.year >=2005) \n",
    "                  &(euro_to_hkd['Time'].dt.year <= 2022)]\n",
    "\n",
    "#Donald_T Between June 2005 - June 2012\n",
    "donald_t = all_three.copy(\n",
    "            )[(all_three['Time'].dt.year >=2005)  \n",
    "                  & (all_three['Time'].dt.year <= 2012)]\n",
    "\n",
    "#Leung C Between July 2012 - June 2017\n",
    "leung_c = all_three.copy(\n",
    "             )[(all_three['Time'].dt.year >=2012) \n",
    "                  & (all_three['Time'].dt.year <= 2017)]\n",
    "# #Carrie L between July 2017 -June 2022\n",
    "carrie_l = all_three.copy(\n",
    "             )[(all_three['Time'].dt.year >=2017)\n",
    "                  & (all_three['Time'].dt.year <= 2022)]"
   ]
  },
  {
   "cell_type": "code",
   "execution_count": 401,
   "metadata": {},
   "outputs": [
    {
     "data": {
      "text/plain": [
       "9.699825338575796"
      ]
     },
     "execution_count": 401,
     "metadata": {},
     "output_type": "execute_result"
    }
   ],
   "source": [
    "all_three['hk_dollar'].mean()"
   ]
  },
  {
   "cell_type": "code",
   "execution_count": 40,
   "metadata": {},
   "outputs": [
    {
     "data": {
      "image/png": "[encoded data removed]",
      "text/plain": [
       "<Figure size 864x360 with 4 Axes>"
      ]
     },
     "metadata": {},
     "output_type": "display_data"
    }
   ],
   "source": [
    "plt.figure(figsize=(12,5))\n",
    "\n",
    "ax1 = plt.subplot(2,3,1)\n",
    "ax2 = plt.subplot(2,3,2)\n",
    "ax3 = plt.subplot(2,3,3)\n",
    "ax4 = plt.subplot(2,1,2)\n",
    "for ax in [ax1,ax2,ax3,ax4]:\n",
    "    ax.grid(alpha=0.3)\n",
    "    ax.set_ylim([7.0,12.5])\n",
    "    ax.tick_params(axis='both', which='major', labelsize=8)\n",
    "#     ax.set_alpha(0.3)\n",
    "ax1.plot(donald_t['Time'],donald_t['rolling_avg'],color='#3dc104')\n",
    "ax1.text(13500,14.2,'DONALD TSANG',color='#3dc104',weight='bold')\n",
    "ax1.text(13650,13.5,'2005 - 2012',color='grey',alpha=0.6,fontsize=12)\n",
    "\n",
    "ax2.plot(leung_c['Time'],leung_c['rolling_avg'],color='#ea883e')\n",
    "ax2.text(15700,14.2,'LEUNG CHUN YING',color='#ea883e',weight='bold')\n",
    "ax2.text(15900,13.5,'2012 - 2017',color='grey',alpha=0.6,fontsize=12)\n",
    "\n",
    "ax3.plot(carrie_l['Time'],carrie_l['rolling_avg'],color='#3821a2')\n",
    "ax3.text(17590,14.2,'CARRIE LAM',color='#3821a2',weight='bold')\n",
    "ax3.text(17680,13.5,'2017 - 2022',color='grey',alpha=0.6,fontsize=12)\n",
    "\n",
    "ax4.plot(donald_t['Time'],donald_t['rolling_avg'],color='#3dc104')\n",
    "ax4.plot(leung_c['Time'],leung_c['rolling_avg'],color='#ea883e')\n",
    "ax4.plot(carrie_l['Time'],carrie_l['rolling_avg'],color='#3821a2')\n",
    "\n",
    "ax.text(12280,22,'Euro-HKD averaged 9.7 under Three Chief Executives',fontsize=20,weight='bold')\n",
    "plt.savefig('all_three.png')"
   ]
  },
  {
   "cell_type": "code",
   "execution_count": null,
   "metadata": {},
   "outputs": [],
   "source": []
  }
 ],
 "metadata": {
  "kernelspec": {
   "display_name": "Python 3",
   "language": "python",
   "name": "python3"
  },
  "language_info": {
   "codemirror_mode": {
    "name": "ipython",
    "version": 3
   },
   "file_extension": ".py",
   "mimetype": "text/x-python",
   "name": "python",
   "nbconvert_exporter": "python",
   "pygments_lexer": "ipython3",
   "version": "3.8.5"
  }
 },
 "nbformat": 4,
 "nbformat_minor": 4
}
